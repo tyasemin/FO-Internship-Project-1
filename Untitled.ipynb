{
 "cells": [
  {
   "cell_type": "markdown",
   "metadata": {},
   "source": [
    "# CNN as an Internship Project"
   ]
  },
  {
   "cell_type": "markdown",
   "metadata": {},
   "source": [
    " Before starting the codding part I want to mention some important subjects about the project. Firstly let's look: What is Artificial Neural Network?"
   ]
  },
  {
   "cell_type": "markdown",
   "metadata": {},
   "source": [
    "## What Is Neural Network?"
   ]
  },
  {
   "cell_type": "markdown",
   "metadata": {},
   "source": [
    "In Wikipedia 'a neural network is a network or circuit of neurons, or in a modern sense, an artificial neural network, composed of artificial neurons or nodes.Thus a neural network is either a biological neural network, made up of real biological neurons or an artificial neural network, for solving artificial intelligence (AI) problems.'\n",
    "Shortly we can say it's a system, based on human neural networks for solving AI problems."
   ]
  },
  {
   "cell_type": "markdown",
   "metadata": {},
   "source": [
    "Under this project, I worked with CNN(Convolutional Neural Network).CNN is 'is a class of deep neural networks, most commonly applied to analyzing visual imagery.'Our data is high way road images and our purpose is to define and find freespace(driveable area) in the road."
   ]
  },
  {
   "cell_type": "markdown",
   "metadata": {},
   "source": [
    "This project was developed on Windows 10 with Anaconda (PyTorch) and CUDA available graphic card."
   ]
  },
  {
   "cell_type": "markdown",
   "metadata": {},
   "source": [
    "## Lets Start The Project!\n",
    "Firstly we need a pattern to distinguish the freespace at the annotated image. But how we are going to do that?\n",
    "Annotated images saved as JSON files. In these JSON files, freespaces are defined. We will read the JSON files(after the load them) and find the freespaces. Once we find them, we will draw freespaces at an empty mask as 0 1 format. Tada! We got the masks!\n"
   ]
  },
  {
   "cell_type": "markdown",
   "metadata": {},
   "source": [
    "**<font size=4>JSON To Mask</font>**"
   ]
  },
  {
   "cell_type": "markdown",
   "metadata": {},
   "source": [
    "We will import the required libraries"
   ]
  },
  {
   "cell_type": "code",
   "execution_count": null,
   "metadata": {},
   "outputs": [],
   "source": [
    "import numpy as np\n",
    "import cv2\n",
    "import json\n",
    "import os\n",
    "from os import listdir\n",
    "from os.path import isfile,join"
   ]
  },
  {
   "cell_type": "markdown",
   "metadata": {},
   "source": [
    "Define the JSON files' folder path and define the path to save the masks."
   ]
  },
  {
   "cell_type": "code",
   "execution_count": null,
   "metadata": {},
   "outputs": [],
   "source": [
    "mypath=\"...\\\\folder\" #this must be the folder of json files\n",
    "path_mask=\"...\\\\folder_mask\" #this must be the folder of masks to save "
   ]
  },
  {
   "cell_type": "markdown",
   "metadata": {},
   "source": [
    "Read the JSON files"
   ]
  },
  {
   "cell_type": "code",
   "execution_count": null,
   "metadata": {},
   "outputs": [],
   "source": [
    "file_names=[f for f in listdir(mypath) if isfile(join(mypath, f))]"
   ]
  },
  {
   "cell_type": "markdown",
   "metadata": {},
   "source": [
    "Open JSON files in for loop and load them"
   ]
  },
  {
   "cell_type": "code",
   "execution_count": null,
   "metadata": {},
   "outputs": [],
   "source": [
    "for i in range(len(file_names)):\n",
    "    fileopen=open(mypath+\"\\\\\"+file_names[i]) \n",
    "\n",
    "    json_dict = json.load(fileopen)"
   ]
  },
  {
   "cell_type": "markdown",
   "metadata": {},
   "source": [
    "Take height and width in the JSON files. We need this for an empty mask."
   ]
  },
  {
   "cell_type": "code",
   "execution_count": null,
   "metadata": {},
   "outputs": [],
   "source": [
    "h_image=json_dict['size']['height']\n",
    "w_image=json_dict['size']['width']"
   ]
  },
  {
   "cell_type": "markdown",
   "metadata": {},
   "source": [
    "Create an empty mask"
   ]
  },
  {
   "cell_type": "code",
   "execution_count": null,
   "metadata": {},
   "outputs": [],
   "source": [
    "mask=np.zeros((h_image,w_image),dtype= np.uint8)"
   ]
  },
  {
   "cell_type": "markdown",
   "metadata": {},
   "source": [
    "Let's define an object and read freespaces"
   ]
  },
  {
   "cell_type": "code",
   "execution_count": null,
   "metadata": {},
   "outputs": [],
   "source": [
    "json_objs=json_dict[\"objects\"]  \n",
    "for obj in json_objs:\n",
    "        class_name=obj['classTitle'] #freespace required\n",
    "        if class_name == \"Freespace\" :\n",
    "            p=obj['points']          \n",
    "            freespace_points=p['exterior'] #freespace's points x,y type"
   ]
  },
  {
   "cell_type": "markdown",
   "metadata": {},
   "source": [
    "We got the freespaces! Remember we created an empty mask before. Now we will draw freespace on the empty mask 0 1 type"
   ]
  },
  {
   "cell_type": "code",
   "execution_count": null,
   "metadata": {},
   "outputs": [],
   "source": [
    "image=cv2.fillPoly(mask,np.array([freespace_points]),1)"
   ]
  },
  {
   "cell_type": "markdown",
   "metadata": {},
   "source": [
    "Last step for JSON to mask we need the save the masks. We defined the path before."
   ]
  },
  {
   "cell_type": "code",
   "execution_count": null,
   "metadata": {},
   "outputs": [],
   "source": [
    "io.imsave(path_mask + \"\\\\\"+\"test\"+str(i)+ \".png\", image)"
   ]
  },
  {
   "cell_type": "markdown",
   "metadata": {},
   "source": [
    "or"
   ]
  },
  {
   "cell_type": "code",
   "execution_count": null,
   "metadata": {},
   "outputs": [],
   "source": [
    "cv2.imwrite(path_mask, mask.astype(np.uint8))"
   ]
  }
 ],
 "metadata": {
  "kernelspec": {
   "display_name": "Python 3",
   "language": "python",
   "name": "python3"
  },
  "language_info": {
   "codemirror_mode": {
    "name": "ipython",
    "version": 3
   },
   "file_extension": ".py",
   "mimetype": "text/x-python",
   "name": "python",
   "nbconvert_exporter": "python",
   "pygments_lexer": "ipython3",
   "version": "3.8.3"
  }
 },
 "nbformat": 4,
 "nbformat_minor": 4
}
